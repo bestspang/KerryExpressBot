{
 "cells": [
  {
   "cell_type": "code",
   "execution_count": 3,
   "metadata": {},
   "outputs": [],
   "source": [
    "from bs4 import BeautifulSoup as soup\n",
    "from html.parser import HTMLParser\n",
    "from urllib.request import urlopen as uReq\n",
    "import json, requests, random, os\n",
    "import numpy as np\n",
    "import pandas as pd"
   ]
  },
  {
   "cell_type": "code",
   "execution_count": 4,
   "metadata": {},
   "outputs": [],
   "source": [
    "col_vars = ['due', 'receiver', 'sender', 'status', 'name', 'datetime', 'city']"
   ]
  },
  {
   "cell_type": "code",
   "execution_count": 5,
   "metadata": {},
   "outputs": [],
   "source": [
    "def getData(track_id):\n",
    "    if track_id == 0:\n",
    "        return 0\n",
    "    #SAMPLE :: https://th.kerryexpress.com/th/track/?track=SMLP000341000 # SEA's SAMPLE\n",
    "    print(\"\\n\")\n",
    "    url = 'https://th.kerryexpress.com/th/track/?track=' + track_id\n",
    "    print(\"connecting.. : \" + url + \"\\n\")\n",
    "\n",
    "    headers = requests.utils.default_headers()\n",
    "    headers.update({'User-Agent': 'Mozilla/5.0 (X11; Ubuntu; Linux x86_64; rv:52.0) Gecko/20100101 Firefox/52.0',})\n",
    "    site_request = requests.get(url, headers=headers)\n",
    "    site_content = soup(site_request.content, \"html.parser\") #lxml\n",
    "    site_data = site_content.findAll(\"div\", {\"class\":\"col colStatus\"}) #(\"table\", {\"class\":\"table table-info\"})\n",
    "    return site_data"
   ]
  },
  {
   "cell_type": "code",
   "execution_count": 8,
   "metadata": {},
   "outputs": [],
   "source": [
    "def cleanData(site_data, ind=0):\n",
    "    list = []\n",
    "    lay1 = ['status piority-success', 'status normaly-waiting']\n",
    "    lay2 = ['date', 'd1', 'd2']\n",
    "    for i in range(len(lay1)):\n",
    "        status = site_data[0].findAll(\"div\", {\"class\":lay1[i]})\n",
    "        if status is not None:\n",
    "            for j in range(len(status)):\n",
    "                #print(\"\\n ================= \\n \")\n",
    "                for k in range(len(lay2)):\n",
    "                    data = status[j].findAll(\"div\", {\"class\":lay2[k]})\n",
    "                    if k == 0:\n",
    "                        data = data[0].findAll(\"div\")\n",
    "                        data = [data[m].text.replace(' ', '').strip() for m in range(2)]\n",
    "                        data = [''.join(data[n].split('e')[1:3]) for n in range(2)]\n",
    "                    elif k == 1 and i == 0:\n",
    "                        data = data[0].text.replace(' ', '').strip()\n",
    "                        data = [data.split('(')[0],data. split('(')[1].split(')')[0], data.split('\\n')[2]]\n",
    "                    else:\n",
    "                        data = data[0].text.replace(' ', '').strip()\n",
    "                    #print(str(data) + \"\\n ------------------\")\n",
    "                    list.append(data)\n",
    "    print(\"\\n ================= \\n \")\n",
    "    return list"
   ]
  },
  {
   "cell_type": "code",
   "execution_count": 9,
   "metadata": {},
   "outputs": [],
   "source": [
    "def makeNP(outlist):\n",
    "    col_names = ['date', 'time', 'sender', 'receiver', 'status', 'name', 'city']\n",
    "    num = int(len(outlist) / 3)\n",
    "    a = np.array(outlist)\n",
    "    #a = a.reshape((3, num))\n",
    "    return a"
   ]
  },
  {
   "cell_type": "code",
   "execution_count": 11,
   "metadata": {},
   "outputs": [
    {
     "name": "stdout",
     "output_type": "stream",
     "text": [
      "\n",
      "\n",
      "connecting.. : https://th.kerryexpress.com/th/track/?track=SMLP000341000\n",
      "\n",
      "\n",
      " ================= \n",
      " \n",
      "[['5ม.ค.62', '10:26'], ['ปลายทางได้รับเรียบร้อยแล้ว', 'คุณบงกช', 'คุณบงกช'], 'ฉะเชิงเทรา-ประเทศไทย', ['5ม.ค.62', '10:00'], 'พัสดุรอนำส่ง', 'ฉะเชิงเทรา-ประเทศไทย', ['5ม.ค.62', '09:58'], 'พัสดุถึงสาขาปลายทาง', 'ฉะเชิงเทรา-ประเทศไทย', ['4ม.ค.62', '23:09'], 'พัสดุถึงศูนย์คัดแยกสินค้า', 'กรุงเทพ-ประเทศไทย', ['4ม.ค.62', '14:23'], 'ผู้ส่งมาส่งพัสดุที่จุดส่ง', 'ลพบุรี-ประเทศไทย']\n"
     ]
    },
    {
     "data": {
      "text/plain": [
       "array([[list(['5ม.ค.62', '10:26']),\n",
       "        list(['ปลายทางได้รับเรียบร้อยแล้ว', 'คุณบงกช', 'คุณบงกช']),\n",
       "        'ฉะเชิงเทรา-ประเทศไทย', list(['5ม.ค.62', '10:00']),\n",
       "        'พัสดุรอนำส่ง'],\n",
       "       ['ฉะเชิงเทรา-ประเทศไทย', list(['5ม.ค.62', '09:58']),\n",
       "        'พัสดุถึงสาขาปลายทาง', 'ฉะเชิงเทรา-ประเทศไทย',\n",
       "        list(['4ม.ค.62', '23:09'])],\n",
       "       ['พัสดุถึงศูนย์คัดแยกสินค้า', 'กรุงเทพ-ประเทศไทย',\n",
       "        list(['4ม.ค.62', '14:23']), 'ผู้ส่งมาส่งพัสดุที่จุดส่ง',\n",
       "        'ลพบุรี-ประเทศไทย']], dtype=object)"
      ]
     },
     "execution_count": 11,
     "metadata": {},
     "output_type": "execute_result"
    }
   ],
   "source": [
    "track_id = 'SMLP000341000'\n",
    "#trackID = input(\"Type your Track-ID: \")\n",
    "data = getData(track_id)\n",
    "clean_data = cleanData(data)\n",
    "print(clean_data)\n",
    "a = makeNP(clean_data)\n",
    "a"
   ]
  },
  {
   "cell_type": "code",
   "execution_count": null,
   "metadata": {},
   "outputs": [],
   "source": []
  }
 ],
 "metadata": {
  "kernelspec": {
   "display_name": "Python 3",
   "language": "python",
   "name": "python3"
  },
  "language_info": {
   "codemirror_mode": {
    "name": "ipython",
    "version": 3
   },
   "file_extension": ".py",
   "mimetype": "text/x-python",
   "name": "python",
   "nbconvert_exporter": "python",
   "pygments_lexer": "ipython3",
   "version": "3.6.5"
  }
 },
 "nbformat": 4,
 "nbformat_minor": 2
}
