{
 "cells": [
  {
   "cell_type": "code",
   "execution_count": 3,
   "metadata": {},
   "outputs": [],
   "source": [
    "from bs4 import BeautifulSoup as soup\n",
    "from html.parser import HTMLParser\n",
    "from urllib.request import urlopen as uReq\n",
    "import json, requests, random, os\n",
    "import numpy as np\n",
    "import pandas as pd"
   ]
  },
  {
   "cell_type": "code",
   "execution_count": 4,
   "metadata": {},
   "outputs": [],
   "source": [
    "col_vars = ['due', 'receiver', 'sender', 'status', 'name', 'datetime', 'city']"
   ]
  },
  {
   "cell_type": "code",
   "execution_count": 5,
   "metadata": {},
   "outputs": [],
   "source": [
    "def getData(track_id):\n",
    "    if track_id == 0:\n",
    "        return 0\n",
    "    #SAMPLE :: https://th.kerryexpress.com/th/track/?track=SMLP000341000 # SEA's SAMPLE\n",
    "    print(\"\\n\")\n",
    "    url = 'https://th.kerryexpress.com/th/track/?track=' + track_id\n",
    "    print(\"connecting.. : \" + url + \"\\n\")\n",
    "\n",
    "    headers = requests.utils.default_headers()\n",
    "    headers.update({'User-Agent': 'Mozilla/5.0 (X11; Ubuntu; Linux x86_64; rv:52.0) Gecko/20100101 Firefox/52.0',})\n",
    "    site_request = requests.get(url, headers=headers)\n",
    "    site_content = soup(site_request.content, \"html.parser\") #lxml\n",
    "    site_data = site_content.findAll(\"div\", {\"class\":\"col colStatus\"}) #(\"table\", {\"class\":\"table table-info\"})\n",
    "    return site_data"
   ]
  },
  {
   "cell_type": "code",
   "execution_count": 40,
   "metadata": {},
   "outputs": [],
   "source": [
    "def cleanData(site_data, ind=0):\n",
    "    list = []\n",
    "    lay1 = ['status piority-success', 'status normaly-waiting']\n",
    "    lay2 = ['date', 'd1', 'd2']\n",
    "    for i in range(len(lay1)):\n",
    "        status = site_data[0].findAll(\"div\", {\"class\":lay1[i]})\n",
    "        if status is not None:\n",
    "            for j in range(len(status)):\n",
    "                print(\"\\n ================= \\n \")\n",
    "                for k in range(len(lay2)):\n",
    "                    data = status[j].findAll(\"div\", {\"class\":lay2[k]})\n",
    "                    if k == 0:\n",
    "                        data = data[0].findAll(\"div\")\n",
    "                        data = [data[m].text.replace(' ', '').strip() for m in range(2)]\n",
    "                        data = [''.join(data[n].split('e')[1:3]) for n in range(2)]\n",
    "                    elif k == 1 and i == 0:\n",
    "                        data = data[0].text.replace(' ', '').strip()\n",
    "                        data = [data.split('(')[0],data. split('(')[1].split(')')[0], data.split('\\n')[2]]\n",
    "                    elif k == 1 and i != 0:\n",
    "                        data = data[0].text.replace(' ', '').strip()\n",
    "                        data = [data, None, None]\n",
    "                    else:\n",
    "                        data = data[0].text.replace(' ', '').strip()\n",
    "                        data = [data]\n",
    "                    print(str(data) + \"\\n ------------------\")\n",
    "                    list.append(data)\n",
    "    print(\"\\n ================= \\n \")\n",
    "    return list"
   ]
  },
  {
   "cell_type": "code",
   "execution_count": 54,
   "metadata": {},
   "outputs": [],
   "source": [
    "def makeNP(outlist):\n",
    "    col_names = ['date', 'time', 'sender', 'receiver', 'status', 'name', 'city']\n",
    "    num = int(len(outlist) / 6)\n",
    "    a = np.array(outlist)\n",
    "    a = a.reshape((num, 6))\n",
    "    return a"
   ]
  },
  {
   "cell_type": "code",
   "execution_count": 44,
   "metadata": {},
   "outputs": [],
   "source": [
    "def list_flatten(l, a=None):\n",
    "    #check a\n",
    "    if a is None:\n",
    "        #initialize with empty list\n",
    "        a = []\n",
    "\n",
    "    for i in l:\n",
    "        if isinstance(i, list):\n",
    "            list_flatten(i, a)\n",
    "        else:\n",
    "            a.append(i)\n",
    "    return a"
   ]
  },
  {
   "cell_type": "code",
   "execution_count": 78,
   "metadata": {},
   "outputs": [
    {
     "name": "stdout",
     "output_type": "stream",
     "text": [
      "\n",
      "\n",
      "connecting.. : https://th.kerryexpress.com/th/track/?track=SMLP000341000\n",
      "\n",
      "\n",
      " ================= \n",
      " \n",
      "['5ม.ค.62', '10:26']\n",
      " ------------------\n",
      "['ปลายทางได้รับเรียบร้อยแล้ว', 'คุณบงกช', 'คุณบงกช']\n",
      " ------------------\n",
      "['ฉะเชิงเทรา-ประเทศไทย']\n",
      " ------------------\n",
      "\n",
      " ================= \n",
      " \n",
      "['5ม.ค.62', '10:00']\n",
      " ------------------\n",
      "['พัสดุรอนำส่ง', None, None]\n",
      " ------------------\n",
      "['ฉะเชิงเทรา-ประเทศไทย']\n",
      " ------------------\n",
      "\n",
      " ================= \n",
      " \n",
      "['5ม.ค.62', '09:58']\n",
      " ------------------\n",
      "['พัสดุถึงสาขาปลายทาง', None, None]\n",
      " ------------------\n",
      "['ฉะเชิงเทรา-ประเทศไทย']\n",
      " ------------------\n",
      "\n",
      " ================= \n",
      " \n",
      "['4ม.ค.62', '23:09']\n",
      " ------------------\n",
      "['พัสดุถึงศูนย์คัดแยกสินค้า', None, None]\n",
      " ------------------\n",
      "['กรุงเทพ-ประเทศไทย']\n",
      " ------------------\n",
      "\n",
      " ================= \n",
      " \n",
      "['4ม.ค.62', '14:23']\n",
      " ------------------\n",
      "['ผู้ส่งมาส่งพัสดุที่จุดส่ง', None, None]\n",
      " ------------------\n",
      "['ลพบุรี-ประเทศไทย']\n",
      " ------------------\n",
      "\n",
      " ================= \n",
      " \n"
     ]
    }
   ],
   "source": [
    "track_id = 'SMLP000341000'\n",
    "#trackID = input(\"Type your Track-ID: \")\n",
    "data = getData(track_id)\n",
    "clean_data = cleanData(data)\n",
    "flat_data = list_flatten(clean_data)\n",
    "a = makeNP(flat_data)"
   ]
  },
  {
   "cell_type": "code",
   "execution_count": 79,
   "metadata": {},
   "outputs": [
    {
     "data": {
      "text/plain": [
       "array([['5ม.ค.62', '10:26', 'ปลายทางได้รับเรียบร้อยแล้ว', 'คุณบงกช',\n",
       "        'คุณบงกช', 'ฉะเชิงเทรา-ประเทศไทย'],\n",
       "       ['5ม.ค.62', '10:00', 'พัสดุรอนำส่ง', None, None,\n",
       "        'ฉะเชิงเทรา-ประเทศไทย'],\n",
       "       ['5ม.ค.62', '09:58', 'พัสดุถึงสาขาปลายทาง', None, None,\n",
       "        'ฉะเชิงเทรา-ประเทศไทย'],\n",
       "       ['4ม.ค.62', '23:09', 'พัสดุถึงศูนย์คัดแยกสินค้า', None, None,\n",
       "        'กรุงเทพ-ประเทศไทย'],\n",
       "       ['4ม.ค.62', '14:23', 'ผู้ส่งมาส่งพัสดุที่จุดส่ง', None, None,\n",
       "        'ลพบุรี-ประเทศไทย']], dtype=object)"
      ]
     },
     "execution_count": 79,
     "metadata": {},
     "output_type": "execute_result"
    }
   ],
   "source": [
    "a"
   ]
  },
  {
   "cell_type": "code",
   "execution_count": 80,
   "metadata": {},
   "outputs": [
    {
     "data": {
      "text/html": [
       "<div>\n",
       "<style scoped>\n",
       "    .dataframe tbody tr th:only-of-type {\n",
       "        vertical-align: middle;\n",
       "    }\n",
       "\n",
       "    .dataframe tbody tr th {\n",
       "        vertical-align: top;\n",
       "    }\n",
       "\n",
       "    .dataframe thead th {\n",
       "        text-align: right;\n",
       "    }\n",
       "</style>\n",
       "<table border=\"1\" class=\"dataframe\">\n",
       "  <thead>\n",
       "    <tr style=\"text-align: right;\">\n",
       "      <th></th>\n",
       "      <th>date</th>\n",
       "      <th>time</th>\n",
       "      <th>status</th>\n",
       "      <th>receiver</th>\n",
       "      <th>name</th>\n",
       "      <th>city</th>\n",
       "    </tr>\n",
       "  </thead>\n",
       "  <tbody>\n",
       "    <tr>\n",
       "      <th>0</th>\n",
       "      <td>5ม.ค.62</td>\n",
       "      <td>10:26</td>\n",
       "      <td>ปลายทางได้รับเรียบร้อยแล้ว</td>\n",
       "      <td>คุณบงกช</td>\n",
       "      <td>คุณบงกช</td>\n",
       "      <td>ฉะเชิงเทรา-ประเทศไทย</td>\n",
       "    </tr>\n",
       "    <tr>\n",
       "      <th>1</th>\n",
       "      <td>5ม.ค.62</td>\n",
       "      <td>10:00</td>\n",
       "      <td>พัสดุรอนำส่ง</td>\n",
       "      <td>None</td>\n",
       "      <td>None</td>\n",
       "      <td>ฉะเชิงเทรา-ประเทศไทย</td>\n",
       "    </tr>\n",
       "    <tr>\n",
       "      <th>2</th>\n",
       "      <td>5ม.ค.62</td>\n",
       "      <td>09:58</td>\n",
       "      <td>พัสดุถึงสาขาปลายทาง</td>\n",
       "      <td>None</td>\n",
       "      <td>None</td>\n",
       "      <td>ฉะเชิงเทรา-ประเทศไทย</td>\n",
       "    </tr>\n",
       "    <tr>\n",
       "      <th>3</th>\n",
       "      <td>4ม.ค.62</td>\n",
       "      <td>23:09</td>\n",
       "      <td>พัสดุถึงศูนย์คัดแยกสินค้า</td>\n",
       "      <td>None</td>\n",
       "      <td>None</td>\n",
       "      <td>กรุงเทพ-ประเทศไทย</td>\n",
       "    </tr>\n",
       "    <tr>\n",
       "      <th>4</th>\n",
       "      <td>4ม.ค.62</td>\n",
       "      <td>14:23</td>\n",
       "      <td>ผู้ส่งมาส่งพัสดุที่จุดส่ง</td>\n",
       "      <td>None</td>\n",
       "      <td>None</td>\n",
       "      <td>ลพบุรี-ประเทศไทย</td>\n",
       "    </tr>\n",
       "  </tbody>\n",
       "</table>\n",
       "</div>"
      ],
      "text/plain": [
       "      date   time                      status receiver     name  \\\n",
       "0  5ม.ค.62  10:26  ปลายทางได้รับเรียบร้อยแล้ว  คุณบงกช  คุณบงกช   \n",
       "1  5ม.ค.62  10:00                พัสดุรอนำส่ง     None     None   \n",
       "2  5ม.ค.62  09:58         พัสดุถึงสาขาปลายทาง     None     None   \n",
       "3  4ม.ค.62  23:09   พัสดุถึงศูนย์คัดแยกสินค้า     None     None   \n",
       "4  4ม.ค.62  14:23   ผู้ส่งมาส่งพัสดุที่จุดส่ง     None     None   \n",
       "\n",
       "                   city  \n",
       "0  ฉะเชิงเทรา-ประเทศไทย  \n",
       "1  ฉะเชิงเทรา-ประเทศไทย  \n",
       "2  ฉะเชิงเทรา-ประเทศไทย  \n",
       "3     กรุงเทพ-ประเทศไทย  \n",
       "4      ลพบุรี-ประเทศไทย  "
      ]
     },
     "execution_count": 80,
     "metadata": {},
     "output_type": "execute_result"
    }
   ],
   "source": [
    "head_list = ['date', 'time', 'status', 'receiver', 'name', 'city']\n",
    "b = pd.DataFrame(columns = head_list, data = a)\n",
    "b"
   ]
  },
  {
   "cell_type": "code",
   "execution_count": 86,
   "metadata": {},
   "outputs": [
    {
     "data": {
      "text/plain": [
       "0    ฉะเชิงเทรา\n",
       "1    ฉะเชิงเทรา\n",
       "2    ฉะเชิงเทรา\n",
       "3       กรุงเทพ\n",
       "4        ลพบุรี\n",
       "Name: 0, dtype: object"
      ]
     },
     "execution_count": 86,
     "metadata": {},
     "output_type": "execute_result"
    }
   ],
   "source": [
    "new = b[\"city\"].str.split(\"-\", n = 1, expand = True)\n",
    "b[\"city\"] = new[0]\n",
    "new[0]"
   ]
  },
  {
   "cell_type": "code",
   "execution_count": 85,
   "metadata": {},
   "outputs": [
    {
     "data": {
      "text/plain": [
       "0    ประเทศไทย\n",
       "1    ประเทศไทย\n",
       "2    ประเทศไทย\n",
       "3    ประเทศไทย\n",
       "4    ประเทศไทย\n",
       "Name: 1, dtype: object"
      ]
     },
     "execution_count": 85,
     "metadata": {},
     "output_type": "execute_result"
    }
   ],
   "source": [
    "new[1]"
   ]
  },
  {
   "cell_type": "code",
   "execution_count": 89,
   "metadata": {},
   "outputs": [],
   "source": [
    "b[\"country\"] = new[1]"
   ]
  },
  {
   "cell_type": "code",
   "execution_count": 90,
   "metadata": {},
   "outputs": [
    {
     "data": {
      "text/html": [
       "<div>\n",
       "<style scoped>\n",
       "    .dataframe tbody tr th:only-of-type {\n",
       "        vertical-align: middle;\n",
       "    }\n",
       "\n",
       "    .dataframe tbody tr th {\n",
       "        vertical-align: top;\n",
       "    }\n",
       "\n",
       "    .dataframe thead th {\n",
       "        text-align: right;\n",
       "    }\n",
       "</style>\n",
       "<table border=\"1\" class=\"dataframe\">\n",
       "  <thead>\n",
       "    <tr style=\"text-align: right;\">\n",
       "      <th></th>\n",
       "      <th>date</th>\n",
       "      <th>time</th>\n",
       "      <th>status</th>\n",
       "      <th>receiver</th>\n",
       "      <th>name</th>\n",
       "      <th>city</th>\n",
       "      <th>country</th>\n",
       "    </tr>\n",
       "  </thead>\n",
       "  <tbody>\n",
       "    <tr>\n",
       "      <th>0</th>\n",
       "      <td>5ม.ค.62</td>\n",
       "      <td>10:26</td>\n",
       "      <td>ปลายทางได้รับเรียบร้อยแล้ว</td>\n",
       "      <td>คุณบงกช</td>\n",
       "      <td>คุณบงกช</td>\n",
       "      <td>ฉะเชิงเทรา</td>\n",
       "      <td>ประเทศไทย</td>\n",
       "    </tr>\n",
       "    <tr>\n",
       "      <th>1</th>\n",
       "      <td>5ม.ค.62</td>\n",
       "      <td>10:00</td>\n",
       "      <td>พัสดุรอนำส่ง</td>\n",
       "      <td>None</td>\n",
       "      <td>None</td>\n",
       "      <td>ฉะเชิงเทรา</td>\n",
       "      <td>ประเทศไทย</td>\n",
       "    </tr>\n",
       "    <tr>\n",
       "      <th>2</th>\n",
       "      <td>5ม.ค.62</td>\n",
       "      <td>09:58</td>\n",
       "      <td>พัสดุถึงสาขาปลายทาง</td>\n",
       "      <td>None</td>\n",
       "      <td>None</td>\n",
       "      <td>ฉะเชิงเทรา</td>\n",
       "      <td>ประเทศไทย</td>\n",
       "    </tr>\n",
       "    <tr>\n",
       "      <th>3</th>\n",
       "      <td>4ม.ค.62</td>\n",
       "      <td>23:09</td>\n",
       "      <td>พัสดุถึงศูนย์คัดแยกสินค้า</td>\n",
       "      <td>None</td>\n",
       "      <td>None</td>\n",
       "      <td>กรุงเทพ</td>\n",
       "      <td>ประเทศไทย</td>\n",
       "    </tr>\n",
       "    <tr>\n",
       "      <th>4</th>\n",
       "      <td>4ม.ค.62</td>\n",
       "      <td>14:23</td>\n",
       "      <td>ผู้ส่งมาส่งพัสดุที่จุดส่ง</td>\n",
       "      <td>None</td>\n",
       "      <td>None</td>\n",
       "      <td>ลพบุรี</td>\n",
       "      <td>ประเทศไทย</td>\n",
       "    </tr>\n",
       "  </tbody>\n",
       "</table>\n",
       "</div>"
      ],
      "text/plain": [
       "      date   time                      status receiver     name        city  \\\n",
       "0  5ม.ค.62  10:26  ปลายทางได้รับเรียบร้อยแล้ว  คุณบงกช  คุณบงกช  ฉะเชิงเทรา   \n",
       "1  5ม.ค.62  10:00                พัสดุรอนำส่ง     None     None  ฉะเชิงเทรา   \n",
       "2  5ม.ค.62  09:58         พัสดุถึงสาขาปลายทาง     None     None  ฉะเชิงเทรา   \n",
       "3  4ม.ค.62  23:09   พัสดุถึงศูนย์คัดแยกสินค้า     None     None     กรุงเทพ   \n",
       "4  4ม.ค.62  14:23   ผู้ส่งมาส่งพัสดุที่จุดส่ง     None     None      ลพบุรี   \n",
       "\n",
       "     country  \n",
       "0  ประเทศไทย  \n",
       "1  ประเทศไทย  \n",
       "2  ประเทศไทย  \n",
       "3  ประเทศไทย  \n",
       "4  ประเทศไทย  "
      ]
     },
     "execution_count": 90,
     "metadata": {},
     "output_type": "execute_result"
    }
   ],
   "source": [
    "b"
   ]
  },
  {
   "cell_type": "code",
   "execution_count": 96,
   "metadata": {},
   "outputs": [
    {
     "data": {
      "text/plain": [
       "date                           5ม.ค.62\n",
       "time                             10:26\n",
       "status      ปลายทางได้รับเรียบร้อยแล้ว\n",
       "receiver                       คุณบงกช\n",
       "name                           คุณบงกช\n",
       "city                        ฉะเชิงเทรา\n",
       "country                      ประเทศไทย\n",
       "Name: 0, dtype: object"
      ]
     },
     "execution_count": 96,
     "metadata": {},
     "output_type": "execute_result"
    }
   ],
   "source": [
    "b.loc[0]"
   ]
  },
  {
   "cell_type": "code",
   "execution_count": 107,
   "metadata": {},
   "outputs": [
    {
     "data": {
      "text/plain": [
       "'{\"0\":{\"date\":\"5ม.ค.62\",\"time\":\"10:26\",\"status\":\"ปลายทางได้รับเรียบร้อยแล้ว\",\"receiver\":\"คุณบงกช\",\"name\":\"คุณบงกช\",\"city\":\"ฉะเชิงเทรา\",\"country\":\"ประเทศไทย\"},\"1\":{\"date\":\"5ม.ค.62\",\"time\":\"10:00\",\"status\":\"พัสดุรอนำส่ง\",\"receiver\":null,\"name\":null,\"city\":\"ฉะเชิงเทรา\",\"country\":\"ประเทศไทย\"},\"2\":{\"date\":\"5ม.ค.62\",\"time\":\"09:58\",\"status\":\"พัสดุถึงสาขาปลายทาง\",\"receiver\":null,\"name\":null,\"city\":\"ฉะเชิงเทรา\",\"country\":\"ประเทศไทย\"},\"3\":{\"date\":\"4ม.ค.62\",\"time\":\"23:09\",\"status\":\"พัสดุถึงศูนย์คัดแยกสินค้า\",\"receiver\":null,\"name\":null,\"city\":\"กรุงเทพ\",\"country\":\"ประเทศไทย\"},\"4\":{\"date\":\"4ม.ค.62\",\"time\":\"14:23\",\"status\":\"ผู้ส่งมาส่งพัสดุที่จุดส่ง\",\"receiver\":null,\"name\":null,\"city\":\"ลพบุรี\",\"country\":\"ประเทศไทย\"}}'"
      ]
     },
     "execution_count": 107,
     "metadata": {},
     "output_type": "execute_result"
    }
   ],
   "source": [
    "d = b.to_json(orient='index', force_ascii=False)\n",
    "d"
   ]
  },
  {
   "cell_type": "code",
   "execution_count": null,
   "metadata": {},
   "outputs": [],
   "source": []
  }
 ],
 "metadata": {
  "kernelspec": {
   "display_name": "Python 3",
   "language": "python",
   "name": "python3"
  },
  "language_info": {
   "codemirror_mode": {
    "name": "ipython",
    "version": 3
   },
   "file_extension": ".py",
   "mimetype": "text/x-python",
   "name": "python",
   "nbconvert_exporter": "python",
   "pygments_lexer": "ipython3",
   "version": "3.6.5"
  }
 },
 "nbformat": 4,
 "nbformat_minor": 2
}
